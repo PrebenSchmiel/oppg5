{
 "cells": [
  {
   "cell_type": "code",
   "execution_count": null,
   "id": "3302efb2-1280-46b8-88cd-f7577dc26928",
   "metadata": {},
   "outputs": [],
   "source": []
  },
  {
   "cell_type": "code",
   "execution_count": 1,
   "id": "65b9cb1d-dd32-4610-b7c8-056b369a653f",
   "metadata": {
    "tags": []
   },
   "outputs": [],
   "source": [
    "import sympy as sp\n",
    "from sympy.solvers import solve"
   ]
  },
  {
   "cell_type": "code",
   "execution_count": 2,
   "id": "7dd99fef-665b-4dc9-b32a-2a153f3fd338",
   "metadata": {},
   "outputs": [
    {
     "data": {
      "text/plain": [
       "{x: -1, y: 2}"
      ]
     },
     "execution_count": 2,
     "metadata": {},
     "output_type": "execute_result"
    }
   ],
   "source": [
    "#1a)\n",
    "x, y  = sp.symbols(\"x y\") #definerer som symbol\n",
    "unknown = [x, y] #legger de ukjente inn i en liste\n",
    "eq_a = [\n",
    "    sp.Eq(2*x+4*y,6),\n",
    "    sp.Eq(-2*x+y, 4)\n",
    "] #definerer et sett med ligninger\n",
    "sp.solve(eq_a, unknown) # løser ligningene mhp x y"
   ]
  },
  {
   "cell_type": "code",
   "execution_count": null,
   "id": "15b926dc-9206-41ee-aa4e-3eeea4e972cc",
   "metadata": {},
   "outputs": [],
   "source": [
    "#1b) \n",
    "#denne løser vi litt annerledes\n",
    "eq_1 = sp.Eq(2*x-y,-1) #definerer hver ligning hver for seg\n",
    "eq_2 = sp.Eq(x**2+x-y, 1)\n",
    "#definerer ligningssettet\n",
    "sp.solve([eq_1, eq_2],unknown) #løser ligningssettet ved å sette de to ligningene inn i en liste, og løser mhpt de ukjente, som vi allerede definerte "
   ]
  },
  {
   "cell_type": "code",
   "execution_count": null,
   "id": "d65629cf-e78e-4022-857f-615250c2b84d",
   "metadata": {},
   "outputs": [],
   "source": []
  },
  {
   "cell_type": "code",
   "execution_count": 6,
   "id": "9f5a019b-3eba-4b80-86ed-aea3a43545e5",
   "metadata": {},
   "outputs": [
    {
     "data": {
      "text/plain": [
       "{x: 4, y: 0}"
      ]
     },
     "execution_count": 6,
     "metadata": {},
     "output_type": "execute_result"
    }
   ],
   "source": [
    "#oppgave 15, 2a\n",
    "x, y  = sp.symbols(\"x y\")\n",
    "unknown = [x, y]\n",
    "eq_a = [\n",
    "    sp.Eq(3*x-12,-6*y),\n",
    "    sp.Eq(4*x-8*y,16)\n",
    "] #definerer et sett med ligninger\n",
    "sp.solve(eq_a, unknown)\n"
   ]
  },
  {
   "cell_type": "code",
   "execution_count": 12,
   "id": "84a67283-3073-493b-b6a5-ae4c211d9c21",
   "metadata": {},
   "outputs": [
    {
     "data": {
      "text/plain": [
       "[(-15/2, 31/4), (2, 3)]"
      ]
     },
     "execution_count": 12,
     "metadata": {},
     "output_type": "execute_result"
    }
   ],
   "source": [
    "#b)\n",
    "unknown = [x, y]\n",
    "eq_b = [\n",
    "    sp.Eq(x**2+4*x-3,3*y),\n",
    "    sp.Eq(2*y,8-x)]\n",
    "sp.solve(eq_b, unknown)\n"
   ]
  },
  {
   "cell_type": "code",
   "execution_count": 13,
   "id": "19443743-fb5c-4ba3-8e5e-99b5df95af23",
   "metadata": {},
   "outputs": [
    {
     "data": {
      "text/plain": [
       "[(0, -5), (12, 1)]"
      ]
     },
     "execution_count": 13,
     "metadata": {},
     "output_type": "execute_result"
    }
   ],
   "source": [
    "#oppgave 16b\n",
    "eq_c = [\n",
    "    sp.Eq(2*x+y**2,25),\n",
    "    sp.Eq(x-2*y,10)]\n",
    "sp.solve(eq_c, unknown)"
   ]
  },
  {
   "cell_type": "code",
   "execution_count": 16,
   "id": "4f14e2d2-94ac-438f-90f5-b3ab06d0ce83",
   "metadata": {},
   "outputs": [
    {
     "data": {
      "text/plain": [
       "{x: 4, y: 2}"
      ]
     },
     "execution_count": 16,
     "metadata": {},
     "output_type": "execute_result"
    }
   ],
   "source": [
    "#oppgave16\n",
    "#2a\n",
    "eq_d = [\n",
    "    sp.Eq(4*x-4*y,8),\n",
    "    sp.Eq(9*x-5*y,26)]\n",
    "sp.solve(eq_d, unknown)"
   ]
  },
  {
   "cell_type": "code",
   "execution_count": 15,
   "id": "3cd18ed2-c08d-4dc9-9db1-8bc2a8fd59cd",
   "metadata": {},
   "outputs": [
    {
     "data": {
      "text/plain": [
       "[(-9, -2*sqrt(3)), (-9, 2*sqrt(3)), (7, -2), (7, 2)]"
      ]
     },
     "execution_count": 15,
     "metadata": {},
     "output_type": "execute_result"
    }
   ],
   "source": [
    "#2b)\n",
    "eq_e = [\n",
    "    sp.Eq(x+2*y**2,15),\n",
    "    sp.Eq(x**2-4*y**2,33)]\n",
    "sp.solve(eq_e, unknown)"
   ]
  },
  {
   "cell_type": "code",
   "execution_count": 18,
   "id": "aaa1fc09-c5ac-46b6-b42d-85ea1213a7f5",
   "metadata": {},
   "outputs": [
    {
     "data": {
      "text/plain": [
       "[(-10, 0), (-6, -8), (-6, 8), (6, -8), (6, 8), (10, 0)]"
      ]
     },
     "execution_count": 18,
     "metadata": {},
     "output_type": "execute_result"
    }
   ],
   "source": [
    "#oppgave 17\n",
    "#1b)\n",
    "eq_17b = [\n",
    "    sp.Eq(x**2+y**2,100),\n",
    "    sp.Eq(x**2*y-36*y,0)]\n",
    "sp.solve(eq_17b, unknown)"
   ]
  },
  {
   "cell_type": "code",
   "execution_count": 19,
   "id": "a5ae8438-8339-4122-a8a9-ee32ccf02108",
   "metadata": {},
   "outputs": [
    {
     "data": {
      "text/plain": [
       "[(-3, -7), (-3, 7), (0, -sqrt(58)), (0, sqrt(58)), (3, -7), (3, 7)]"
      ]
     },
     "execution_count": 19,
     "metadata": {},
     "output_type": "execute_result"
    }
   ],
   "source": [
    "#2a\n",
    "eq_172a = [\n",
    "    sp.Eq(x*y**2-49*x,0),\n",
    "    sp.Eq(x**2+y**2,58)]\n",
    "sp.solve(eq_172a, unknown)"
   ]
  },
  {
   "cell_type": "code",
   "execution_count": 20,
   "id": "a7076b41-0293-4ee1-98e4-bfbbc33fa917",
   "metadata": {},
   "outputs": [
    {
     "data": {
      "text/plain": [
       "[(-1.11803398874989, 0.0),\n",
       " (-0.500000000000000, -1.00000000000000),\n",
       " (-0.500000000000000, 1.00000000000000),\n",
       " (1.11803398874989, 0.0)]"
      ]
     },
     "execution_count": 20,
     "metadata": {},
     "output_type": "execute_result"
    }
   ],
   "source": [
    "#2b\n",
    "eq_172b = [\n",
    "    sp.Eq(x**2+y**2,5/4),\n",
    "    sp.Eq(2*x*y+y,0)]\n",
    "sp.solve(eq_172b, unknown)"
   ]
  },
  {
   "cell_type": "code",
   "execution_count": 21,
   "id": "13b65a0f-764b-4e0e-845e-34b1bf6133f4",
   "metadata": {},
   "outputs": [
    {
     "data": {
      "text/latex": [
       "$\\displaystyle 5 x^{4}$"
      ],
      "text/plain": [
       "5*x**4"
      ]
     },
     "execution_count": 21,
     "metadata": {},
     "output_type": "execute_result"
    }
   ],
   "source": [
    "#oppgave19a\n",
    "sp.diff(x**5,x)"
   ]
  },
  {
   "cell_type": "code",
   "execution_count": 22,
   "id": "e1697264-3064-4ff0-a818-877e74229c7a",
   "metadata": {},
   "outputs": [
    {
     "data": {
      "text/latex": [
       "$\\displaystyle 1$"
      ],
      "text/plain": [
       "1"
      ]
     },
     "execution_count": 22,
     "metadata": {},
     "output_type": "execute_result"
    }
   ],
   "source": [
    "#b\n",
    "sp.diff(x+12,x)"
   ]
  },
  {
   "cell_type": "code",
   "execution_count": 23,
   "id": "d338b6fc-82c5-4738-8fdf-245d711eb00c",
   "metadata": {},
   "outputs": [
    {
     "data": {
      "text/latex": [
       "$\\displaystyle 3 x^{2} + 8 x$"
      ],
      "text/plain": [
       "3*x**2 + 8*x"
      ]
     },
     "execution_count": 23,
     "metadata": {},
     "output_type": "execute_result"
    }
   ],
   "source": [
    "#c\n",
    "sp.diff(x**3+4*x**2,x)"
   ]
  },
  {
   "cell_type": "code",
   "execution_count": 26,
   "id": "6f926592-7c7a-410f-8078-6d0de7efd803",
   "metadata": {},
   "outputs": [
    {
     "data": {
      "text/latex": [
       "$\\displaystyle \\frac{1}{2 \\sqrt{x}}$"
      ],
      "text/plain": [
       "1/(2*sqrt(x))"
      ]
     },
     "execution_count": 26,
     "metadata": {},
     "output_type": "execute_result"
    }
   ],
   "source": [
    "#e sp.sqrt\n",
    "sp.diff(sp.sqrt(x)+5**2,x)"
   ]
  },
  {
   "cell_type": "code",
   "execution_count": 30,
   "id": "bddf1217-85dc-4aa2-9157-6be964a3d1ce",
   "metadata": {},
   "outputs": [
    {
     "data": {
      "text/latex": [
       "$\\displaystyle 3 x^{2} - \\frac{1}{x^{2}}$"
      ],
      "text/plain": [
       "3*x**2 - 1/x**2"
      ]
     },
     "execution_count": 30,
     "metadata": {},
     "output_type": "execute_result"
    }
   ],
   "source": [
    "#f\n",
    "sp.diff(x**3+1/x)"
   ]
  },
  {
   "cell_type": "code",
   "execution_count": 31,
   "id": "e108ba6c-9442-465c-a85f-36a0822af679",
   "metadata": {},
   "outputs": [
    {
     "data": {
      "text/latex": [
       "$\\displaystyle 3 x^{2} - 2 x + 0.25$"
      ],
      "text/plain": [
       "3*x**2 - 2*x + 0.25"
      ]
     },
     "execution_count": 31,
     "metadata": {},
     "output_type": "execute_result"
    }
   ],
   "source": [
    "#g\n",
    "sp.diff(x**3-x**2+(1/4*x))"
   ]
  },
  {
   "cell_type": "code",
   "execution_count": 34,
   "id": "8231be8b-f7a0-4240-9807-7d63d0c96ac6",
   "metadata": {},
   "outputs": [
    {
     "data": {
      "text/latex": [
       "$\\displaystyle 36 x^{5} - \\frac{1}{x^{2}}$"
      ],
      "text/plain": [
       "36*x**5 - 1/x**2"
      ]
     },
     "execution_count": 34,
     "metadata": {},
     "output_type": "execute_result"
    }
   ],
   "source": [
    "#oppgave2a\n",
    "sp.diff((1/x)+6*x**6)"
   ]
  },
  {
   "cell_type": "code",
   "execution_count": 35,
   "id": "2e370cc4-7f3f-4b65-8173-2bc38eff0dee",
   "metadata": {},
   "outputs": [
    {
     "data": {
      "text/latex": [
       "$\\displaystyle 1.5 x^{2} - 1$"
      ],
      "text/plain": [
       "1.5*x**2 - 1"
      ]
     },
     "execution_count": 35,
     "metadata": {},
     "output_type": "execute_result"
    }
   ],
   "source": [
    "#b\n",
    "sp.diff(-x+1/2*x**3)"
   ]
  },
  {
   "cell_type": "code",
   "execution_count": 40,
   "id": "d1f3304b-f30d-4c3f-a200-e435d1032954",
   "metadata": {},
   "outputs": [
    {
     "data": {
      "text/latex": [
       "$\\displaystyle x^{2} + x \\left(2 x + 2\\right) + 2 x - 3$"
      ],
      "text/plain": [
       "x**2 + x*(2*x + 2) + 2*x - 3"
      ]
     },
     "execution_count": 40,
     "metadata": {},
     "output_type": "execute_result"
    }
   ],
   "source": [
    "#c)\n",
    "sp.diff(x*(x**2+2*x-3))"
   ]
  },
  {
   "cell_type": "code",
   "execution_count": 42,
   "id": "01765a68-f3ec-458d-b94d-290f3f66f223",
   "metadata": {},
   "outputs": [
    {
     "data": {
      "text/latex": [
       "$\\displaystyle \\left(3 x^{2} + 6\\right)^{5}$"
      ],
      "text/plain": [
       "(3*x**2 + 6)**5"
      ]
     },
     "execution_count": 42,
     "metadata": {},
     "output_type": "execute_result"
    }
   ],
   "source": [
    "#21a\n",
    "sp.diff(x**3+6*x)**5"
   ]
  },
  {
   "cell_type": "code",
   "execution_count": 44,
   "id": "384b552b-6e9a-41c9-a3b9-060102207570",
   "metadata": {},
   "outputs": [
    {
     "data": {
      "text/latex": [
       "$\\displaystyle \\frac{2 x}{\\sqrt{2 x^{2} + 5}}$"
      ],
      "text/plain": [
       "2*x/sqrt(2*x**2 + 5)"
      ]
     },
     "execution_count": 44,
     "metadata": {},
     "output_type": "execute_result"
    }
   ],
   "source": [
    "#b\n",
    "sp.diff(sp.sqrt(2*x**2 +5), x)"
   ]
  },
  {
   "cell_type": "code",
   "execution_count": 54,
   "id": "2a264635-48aa-4aab-8b0a-5151e755520c",
   "metadata": {},
   "outputs": [
    {
     "data": {
      "text/latex": [
       "$\\displaystyle - \\frac{8 \\left(3 + \\frac{2}{x}\\right)^{3}}{x^{2}}$"
      ],
      "text/plain": [
       "-8*(3 + 2/x)**3/x**2"
      ]
     },
     "execution_count": 54,
     "metadata": {},
     "output_type": "execute_result"
    }
   ],
   "source": [
    "#c\n",
    "sp.diff((2*x/x**2+3)**4,x)\n"
   ]
  },
  {
   "cell_type": "code",
   "execution_count": 57,
   "id": "ae30c420-b6b0-4949-b2e3-b90624ab8d38",
   "metadata": {},
   "outputs": [
    {
     "data": {
      "text/latex": [
       "$\\displaystyle 12 x^{3} \\left(2 x^{4} + 9\\right)^{2}$"
      ],
      "text/plain": [
       "12*x**3*(2*x**4 + 9)**2"
      ]
     },
     "execution_count": 57,
     "metadata": {},
     "output_type": "execute_result"
    }
   ],
   "source": [
    "#d\n",
    "sp.diff((2*x**4+9)**3/2)"
   ]
  },
  {
   "cell_type": "code",
   "execution_count": 59,
   "id": "29af575e-1ee1-4afc-9d4c-67a218c7e906",
   "metadata": {},
   "outputs": [
    {
     "data": {
      "text/latex": [
       "$\\displaystyle - \\frac{x}{\\left(x^{2} + 1\\right)^{\\frac{3}{2}}}$"
      ],
      "text/plain": [
       "-x/(x**2 + 1)**(3/2)"
      ]
     },
     "execution_count": 59,
     "metadata": {},
     "output_type": "execute_result"
    }
   ],
   "source": [
    "#e\n",
    "sp.diff(1/sp.sqrt(1+x**2),x)"
   ]
  },
  {
   "cell_type": "code",
   "execution_count": 61,
   "id": "98d6f459-1ed5-4ed7-9198-0bd0049621d7",
   "metadata": {},
   "outputs": [
    {
     "data": {
      "text/latex": [
       "$\\displaystyle x^{4} \\left(x + 2\\right)^{2} \\cdot \\left(8 x + 10\\right)$"
      ],
      "text/plain": [
       "x**4*(x + 2)**2*(8*x + 10)"
      ]
     },
     "execution_count": 61,
     "metadata": {},
     "output_type": "execute_result"
    }
   ],
   "source": [
    "#f\n",
    "solved=sp.diff(x**2*(x**2+2*x)**3)\n",
    "sp.simplify(solved)"
   ]
  },
  {
   "cell_type": "code",
   "execution_count": 63,
   "id": "3c8036d9-2209-4119-9e33-fa90feb360a7",
   "metadata": {},
   "outputs": [
    {
     "data": {
      "text/latex": [
       "$\\displaystyle \\frac{x^{2} \\cdot \\left(3 x - 5\\right)}{\\sqrt{x \\left(x - 2\\right)}}$"
      ],
      "text/plain": [
       "x**2*(3*x - 5)/sqrt(x*(x - 2))"
      ]
     },
     "execution_count": 63,
     "metadata": {},
     "output_type": "execute_result"
    }
   ],
   "source": [
    "#g\n",
    "solved1=sp.diff(x**2 * sp.sqrt(x**2-2*x))\n",
    "sp.simplify(solved1)"
   ]
  },
  {
   "cell_type": "code",
   "execution_count": 65,
   "id": "0c8f9a28-926c-417e-9d18-2dee53885141",
   "metadata": {},
   "outputs": [
    {
     "data": {
      "text/latex": [
       "$\\displaystyle \\frac{- 4 x - 1}{x^{2} \\left(x + 1\\right)^{4}}$"
      ],
      "text/plain": [
       "(-4*x - 1)/(x**2*(x + 1)**4)"
      ]
     },
     "execution_count": 65,
     "metadata": {},
     "output_type": "execute_result"
    }
   ],
   "source": [
    "#h\n",
    "solved2=sp.diff(x**2/(x**2+x)**3)\n",
    "sp.simplify(solved2)\n"
   ]
  },
  {
   "cell_type": "code",
   "execution_count": 96,
   "id": "bdb41e8d-ba28-4fe5-a67c-196836321855",
   "metadata": {},
   "outputs": [
    {
     "data": {
      "text/latex": [
       "$\\displaystyle x \\left(x^{2} + 1\\right) \\left(x^{3} + 1\\right)^{2} \\cdot \\left(4 x^{3} + 9 x \\left(x^{2} + 1\\right) + 4\\right)$"
      ],
      "text/plain": [
       "x*(x**2 + 1)*(x**3 + 1)**2*(4*x**3 + 9*x*(x**2 + 1) + 4)"
      ]
     },
     "execution_count": 96,
     "metadata": {},
     "output_type": "execute_result"
    }
   ],
   "source": [
    "#i\n",
    "solved3=sp.diff((x**2+1)**2*(x**3+1)**3)\n",
    "sp.simplify(solved3)"
   ]
  },
  {
   "cell_type": "code",
   "execution_count": null,
   "id": "eda00995-1c07-4e69-8d9c-05ba8db1381a",
   "metadata": {},
   "outputs": [],
   "source": []
  },
  {
   "cell_type": "code",
   "execution_count": 78,
   "id": "b76c7926-766c-4210-9225-4fc96c04dc7c",
   "metadata": {},
   "outputs": [
    {
     "data": {
      "text/latex": [
       "$\\displaystyle \\frac{x \\left(4 x^{2} + 3\\right)}{\\sqrt{x^{2} \\cdot \\left(2 x^{2} + 3\\right)}}$"
      ],
      "text/plain": [
       "x*(4*x**2 + 3)/sqrt(x**2*(2*x**2 + 3))"
      ]
     },
     "execution_count": 78,
     "metadata": {},
     "output_type": "execute_result"
    }
   ],
   "source": [
    "#oppgave21\n",
    "#2a\n",
    "solved4=sp.diff(sp.sqrt((3*x**2+2*x**4),x))\n",
    "sp.simplify(solved4)"
   ]
  },
  {
   "cell_type": "code",
   "execution_count": 80,
   "id": "57c46ac9-4591-4f5f-9f3b-798a8e02f25b",
   "metadata": {},
   "outputs": [
    {
     "data": {
      "text/latex": [
       "$\\displaystyle x \\left(x^{2} + 3\\right)^{3} \\left(x^{3} + 3\\right)^{4} \\cdot \\left(8 x^{3} + 15 x \\left(x^{2} + 3\\right) + 24\\right)$"
      ],
      "text/plain": [
       "x*(x**2 + 3)**3*(x**3 + 3)**4*(8*x**3 + 15*x*(x**2 + 3) + 24)"
      ]
     },
     "execution_count": 80,
     "metadata": {},
     "output_type": "execute_result"
    }
   ],
   "source": [
    "#b\n",
    "solved_7=sp.diff((x**3+3)**5 * (x**2+3)**4,x)\n",
    "sp.simplify(solved_7)"
   ]
  },
  {
   "cell_type": "code",
   "execution_count": 82,
   "id": "f72357df-8943-489b-8a35-8f1df6ceed57",
   "metadata": {},
   "outputs": [
    {
     "data": {
      "text/latex": [
       "$\\displaystyle \\frac{x \\left(3 x^{2} + 2\\right)}{\\sqrt{x^{2} + 1}}$"
      ],
      "text/plain": [
       "x*(3*x**2 + 2)/sqrt(x**2 + 1)"
      ]
     },
     "execution_count": 82,
     "metadata": {},
     "output_type": "execute_result"
    }
   ],
   "source": [
    "#c\n",
    "solved_8=sp.diff(sp.sqrt(x**2+1)*x**2,x)\n",
    "sp.simplify(solved_8)"
   ]
  },
  {
   "cell_type": "code",
   "execution_count": 88,
   "id": "217b36f9-89ac-498c-8ab2-7c22df796203",
   "metadata": {},
   "outputs": [
    {
     "data": {
      "text/latex": [
       "$\\displaystyle \\left(3 x + 2\\right)^{2} \\cdot \\left(12 x + 2\\right)$"
      ],
      "text/plain": [
       "(3*x + 2)**2*(12*x + 2)"
      ]
     },
     "execution_count": 88,
     "metadata": {},
     "output_type": "execute_result"
    }
   ],
   "source": [
    "#d\n",
    "solved_9=sp.diff((2*x+3*x**2)**3 / x**2)\n",
    "sp.simplify(solved_9)"
   ]
  },
  {
   "cell_type": "code",
   "execution_count": 92,
   "id": "0b2635ea-34ad-4843-9a2e-855d3ecba7b5",
   "metadata": {},
   "outputs": [
    {
     "data": {
      "text/latex": [
       "$\\displaystyle \\frac{2 \\sqrt{3} x^{3} \\sqrt{3^{x^{4}}} \\log{\\left(3 \\right)}}{27}$"
      ],
      "text/plain": [
       "2*sqrt(3)*x**3*sqrt(3**(x**4))*log(3)/27"
      ]
     },
     "execution_count": 92,
     "metadata": {},
     "output_type": "execute_result"
    }
   ],
   "source": [
    "#e\n",
    "solved_10=sp.diff(sp.sqrt(3**(x**4-5)))\n",
    "sp.simplify(solved_10)"
   ]
  },
  {
   "cell_type": "code",
   "execution_count": 94,
   "id": "666ca46c-4b2c-420c-a9a6-8ae0f6c6a26e",
   "metadata": {},
   "outputs": [
    {
     "data": {
      "text/latex": [
       "$\\displaystyle \\frac{x^{2} \\left(x^{4} - 3\\right)}{\\left(x^{4} - 1\\right)^{\\frac{3}{2}}}$"
      ],
      "text/plain": [
       "x**2*(x**4 - 3)/(x**4 - 1)**(3/2)"
      ]
     },
     "execution_count": 94,
     "metadata": {},
     "output_type": "execute_result"
    }
   ],
   "source": [
    "#f\n",
    "solved_11=sp.diff(x**3/ sp.sqrt(x**4-1))\n",
    "sp.simplify(solved_11)"
   ]
  },
  {
   "cell_type": "code",
   "execution_count": 95,
   "id": "55259d0c-359e-47f9-a487-75d6e6815bf5",
   "metadata": {},
   "outputs": [
    {
     "data": {
      "text/latex": [
       "$\\displaystyle \\frac{1}{x}$"
      ],
      "text/plain": [
       "1/x"
      ]
     },
     "execution_count": 95,
     "metadata": {},
     "output_type": "execute_result"
    }
   ],
   "source": [
    "#Oppgave 22\n",
    "#oppg 1a\n",
    "sp.diff(sp.log(5*x))"
   ]
  },
  {
   "cell_type": "code",
   "execution_count": null,
   "id": "976aa987-8d96-48b4-aa6c-872b0f2b6817",
   "metadata": {},
   "outputs": [],
   "source": [
    "sp.diff(sp.exp(-2*x), x)# bruker sp.exp for å få frem eskponentialfunksjonen med grunntall e "
   ]
  },
  {
   "cell_type": "code",
   "execution_count": 97,
   "id": "90597feb-d1cc-48e3-993e-9e9ef99fcc20",
   "metadata": {},
   "outputs": [
    {
     "data": {
      "text/latex": [
       "$\\displaystyle 2 e^{2 x}$"
      ],
      "text/plain": [
       "2*exp(2*x)"
      ]
     },
     "execution_count": 97,
     "metadata": {},
     "output_type": "execute_result"
    }
   ],
   "source": [
    "#d\n",
    "sp.diff(sp.exp(2*x))"
   ]
  },
  {
   "cell_type": "code",
   "execution_count": 98,
   "id": "dd88c658-f5bd-4214-94e0-b5095a3d8e59",
   "metadata": {},
   "outputs": [
    {
     "data": {
      "text/latex": [
       "$\\displaystyle 3 e^{3 x + 5}$"
      ],
      "text/plain": [
       "3*exp(3*x + 5)"
      ]
     },
     "execution_count": 98,
     "metadata": {},
     "output_type": "execute_result"
    }
   ],
   "source": [
    "#e\n",
    "sp.diff(sp.exp(3*x+5))"
   ]
  },
  {
   "cell_type": "code",
   "execution_count": 99,
   "id": "f58ae6f7-a464-476c-b8ec-8ab29ed5730b",
   "metadata": {},
   "outputs": [
    {
     "data": {
      "text/latex": [
       "$\\displaystyle \\frac{5 x^{4}}{x^{5} + 1}$"
      ],
      "text/plain": [
       "5*x**4/(x**5 + 1)"
      ]
     },
     "execution_count": 99,
     "metadata": {},
     "output_type": "execute_result"
    }
   ],
   "source": [
    "#f\n",
    "sp.diff(sp.log(x**5+1))"
   ]
  },
  {
   "cell_type": "code",
   "execution_count": 101,
   "id": "3cb44d54-4e53-4803-aa3b-874be18c7c16",
   "metadata": {},
   "outputs": [
    {
     "data": {
      "text/latex": [
       "$\\displaystyle 8 \\left(x + 1\\right) e^{4 x \\left(x + 2\\right)}$"
      ],
      "text/plain": [
       "8*(x + 1)*exp(4*x*(x + 2))"
      ]
     },
     "execution_count": 101,
     "metadata": {},
     "output_type": "execute_result"
    }
   ],
   "source": [
    "#g\n",
    "solved_14=sp.diff(sp.exp(4*x**2+8*x))\n",
    "sp.simplify(solved_14)"
   ]
  },
  {
   "cell_type": "code",
   "execution_count": 102,
   "id": "95906b5c-98c8-4d98-914f-efb07518aea7",
   "metadata": {},
   "outputs": [
    {
     "data": {
      "text/latex": [
       "$\\displaystyle - \\frac{1}{x}$"
      ],
      "text/plain": [
       "-1/x"
      ]
     },
     "execution_count": 102,
     "metadata": {},
     "output_type": "execute_result"
    }
   ],
   "source": [
    "#h\n",
    "sp.diff(sp.log(1/x))"
   ]
  },
  {
   "cell_type": "code",
   "execution_count": 105,
   "id": "948e2391-6acf-41b3-8e88-76de3a933d03",
   "metadata": {},
   "outputs": [
    {
     "data": {
      "text/latex": [
       "$\\displaystyle e^{2 x}$"
      ],
      "text/plain": [
       "exp(2*x)"
      ]
     },
     "execution_count": 105,
     "metadata": {},
     "output_type": "execute_result"
    }
   ],
   "source": [
    "#j\n",
    "sp.diff(x)*sp.exp(2*x)"
   ]
  },
  {
   "cell_type": "code",
   "execution_count": 106,
   "id": "e0c3f13b-15c1-4e92-82cd-a31704f071e7",
   "metadata": {},
   "outputs": [
    {
     "data": {
      "text/latex": [
       "$\\displaystyle 2 x \\log{\\left(x^{2} + 2 \\right)}$"
      ],
      "text/plain": [
       "2*x*log(x**2 + 2)"
      ]
     },
     "execution_count": 106,
     "metadata": {},
     "output_type": "execute_result"
    }
   ],
   "source": [
    "#k\n",
    "sp.diff(x**2) *sp.log(x**2+2)"
   ]
  },
  {
   "cell_type": "code",
   "execution_count": 110,
   "id": "22e9c6b2-db5f-4076-8e64-e3c908313c9d",
   "metadata": {},
   "outputs": [
    {
     "data": {
      "text/latex": [
       "$\\displaystyle 2 x^{3} e^{2 x} + 3 x^{2} e^{2 x}$"
      ],
      "text/plain": [
       "2*x**3*exp(2*x) + 3*x**2*exp(2*x)"
      ]
     },
     "execution_count": 110,
     "metadata": {},
     "output_type": "execute_result"
    }
   ],
   "source": [
    "#oppgav2a\n",
    "sp.diff((x**3) *sp.exp(2*x))"
   ]
  },
  {
   "cell_type": "code",
   "execution_count": 113,
   "id": "471f8c29-d609-433e-be18-9f19ed5f2414",
   "metadata": {},
   "outputs": [
    {
     "data": {
      "text/latex": [
       "$\\displaystyle \\frac{4 x}{x^{4} - 1}$"
      ],
      "text/plain": [
       "4*x/(x**4 - 1)"
      ]
     },
     "execution_count": 113,
     "metadata": {},
     "output_type": "execute_result"
    }
   ],
   "source": [
    "#b\n",
    "solved_19=sp.diff(sp.log((x**2-1)/(x**2+1)))\n",
    "sp.simplify(solved_19)"
   ]
  },
  {
   "cell_type": "code",
   "execution_count": 115,
   "id": "2c0804a5-17bb-45dd-bd36-a34c291f0b6b",
   "metadata": {},
   "outputs": [
    {
     "data": {
      "text/latex": [
       "$\\displaystyle \\frac{2 x^{3}}{x^{2} + 2} + 2 x \\log{\\left(x^{2} + 2 \\right)}$"
      ],
      "text/plain": [
       "2*x**3/(x**2 + 2) + 2*x*log(x**2 + 2)"
      ]
     },
     "execution_count": 115,
     "metadata": {},
     "output_type": "execute_result"
    }
   ],
   "source": [
    "#c\n",
    "sp.diff(x**2 * sp.log(x**2 + 2))"
   ]
  },
  {
   "cell_type": "code",
   "execution_count": 116,
   "id": "007efb87-4926-42ff-b648-fc6b9a613612",
   "metadata": {},
   "outputs": [
    {
     "data": {
      "text/latex": [
       "$\\displaystyle \\frac{e^{1 - \\frac{1}{x}}}{x^{2}}$"
      ],
      "text/plain": [
       "exp(1 - 1/x)/x**2"
      ]
     },
     "execution_count": 116,
     "metadata": {},
     "output_type": "execute_result"
    }
   ],
   "source": [
    "#d\n",
    "sp.diff(sp.exp(-x / x**2+1))"
   ]
  }
 ],
 "metadata": {
  "kernelspec": {
   "display_name": "Python 3 (ipykernel)",
   "language": "python",
   "name": "python3"
  },
  "language_info": {
   "codemirror_mode": {
    "name": "ipython",
    "version": 3
   },
   "file_extension": ".py",
   "mimetype": "text/x-python",
   "name": "python",
   "nbconvert_exporter": "python",
   "pygments_lexer": "ipython3",
   "version": "3.9.13"
  }
 },
 "nbformat": 4,
 "nbformat_minor": 5
}
